{
 "cells": [
  {
   "cell_type": "markdown",
   "id": "25311a92",
   "metadata": {},
   "source": [
    "# Taller \n",
    "# Caiza Klar - Helen Alcivar\n",
    "# 12.08.2022"
   ]
  },
  {
   "cell_type": "code",
   "execution_count": 23,
   "id": "a5383671",
   "metadata": {},
   "outputs": [],
   "source": [
    "import os\n",
    "import cv2\n",
    "from PIL import Image\n",
    "import tensorflow as tf\n",
    "from tensorflow.keras.models import load_model\n",
    "from tensorflow.keras.utils import to_categorical\n",
    "from tensorflow.keras.optimizers import Adam, RMSprop\n",
    "from tensorflow.keras.callbacks import ReduceLROnPlateau\n",
    "from tensorflow.keras.preprocessing.image import ImageDataGenerator, img_to_array\n",
    "from tensorflow.keras.callbacks import EarlyStopping\n",
    "import numpy as np\n",
    "import matplotlib.pyplot as plt\n",
    "from sklearn.model_selection import train_test_split\n",
    "from sklearn.metrics import accuracy_score, precision_score, recall_score, f1_score\n",
    "import time\n",
    "import math\n",
    "import logging\n",
    "from tensorflow.keras.applications.vgg16 import VGG16\n",
    "from tensorflow.keras.applications.vgg16 import preprocess_input\n",
    "from tensorflow.keras import layers, models\n",
    "from tensorflow.keras.callbacks import EarlyStopping"
   ]
  },
  {
   "cell_type": "code",
   "execution_count": 2,
   "id": "26b7483f",
   "metadata": {},
   "outputs": [],
   "source": [
    "IMG_SHAPE  = 224\n",
    "batch_size = 32\n",
    "random_seed = 9"
   ]
  },
  {
   "cell_type": "code",
   "execution_count": 3,
   "id": "0cbdc967",
   "metadata": {},
   "outputs": [
    {
     "name": "stdout",
     "output_type": "stream",
     "text": [
      "List of categories =  ('escala1', 'escala3', 'escala7') \n",
      "\n",
      "No. of categories =  3\n"
     ]
    }
   ],
   "source": [
    "fpath = 'C:/Users/KlarSC/Desktop/Laboratorio1P3/Dataset_Prueba'\n",
    "random_seed = 10\n",
    "\n",
    "categories = 'escala1', 'escala3','escala7'\n",
    "print(\"List of categories = \",categories,\"\\n\\nNo. of categories = \", len(categories))"
   ]
  },
  {
   "cell_type": "code",
   "execution_count": null,
   "id": "bff639c0",
   "metadata": {},
   "outputs": [],
   "source": []
  }
 ],
 "metadata": {
  "kernelspec": {
   "display_name": "Python 3 (ipykernel)",
   "language": "python",
   "name": "python3"
  },
  "language_info": {
   "codemirror_mode": {
    "name": "ipython",
    "version": 3
   },
   "file_extension": ".py",
   "mimetype": "text/x-python",
   "name": "python",
   "nbconvert_exporter": "python",
   "pygments_lexer": "ipython3",
   "version": "3.9.12"
  }
 },
 "nbformat": 4,
 "nbformat_minor": 5
}
